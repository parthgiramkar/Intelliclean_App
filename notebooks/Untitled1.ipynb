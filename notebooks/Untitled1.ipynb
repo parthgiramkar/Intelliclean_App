{
 "cells": [
  {
   "cell_type": "code",
   "execution_count": 5,
   "id": "2c237b2e-d357-4066-ad04-fb59b3d08b73",
   "metadata": {},
   "outputs": [
    {
     "name": "stdout",
     "output_type": "stream",
     "text": [
      "Highly correlated column pairs:\n"
     ]
    }
   ],
   "source": [
    "import pandas as pd\n",
    "\n",
    "# Load Titanic dataset\n",
    "df = pd.read_csv(\"titanic.csv\")\n",
    "\n",
    "# Compute Pearson correlation directly\n",
    "corr_matrix = df.corr(numeric_only=True)\n",
    "\n",
    "def get_high_correlation_columns(corr_matrix, threshold=0.8):\n",
    "    \"\"\"Return list of (col1, col2, corr_value) for high correlations.\"\"\"\n",
    "    high_corr_pairs = []\n",
    "\n",
    "    for i, col1 in enumerate(corr_matrix.columns):\n",
    "        for j, col2 in enumerate(corr_matrix.columns):\n",
    "            if i < j:  # avoid duplicates & self-correlation\n",
    "                corr_value = corr_matrix.loc[col1, col2]\n",
    "                if abs(corr_value) > threshold:\n",
    "                    high_corr_pairs.append((col1, col2, corr_value))\n",
    "\n",
    "    return high_corr_pairs\n",
    "\n",
    "# Run\n",
    "high_corr_cols = get_high_correlation_columns(corr_matrix, threshold=0.8)\n",
    "\n",
    "print(\"Highly correlated column pairs:\")\n",
    "for col1, col2, corr in high_corr_cols:\n",
    "    print(f\"{col1} ↔ {col2} : {corr:.2f}\")\n"
   ]
  }
 ],
 "metadata": {
  "kernelspec": {
   "display_name": "Python (intelliclean_env)",
   "language": "python",
   "name": "intelliclean_env"
  },
  "language_info": {
   "codemirror_mode": {
    "name": "ipython",
    "version": 3
   },
   "file_extension": ".py",
   "mimetype": "text/x-python",
   "name": "python",
   "nbconvert_exporter": "python",
   "pygments_lexer": "ipython3",
   "version": "3.10.18"
  },
  "widgets": {
   "application/vnd.jupyter.widget-state+json": {
    "state": {
     "0c81580a875d4d4488b0bf8683e388f7": {
      "model_module": "@jupyter-widgets/base",
      "model_module_version": "2.0.0",
      "model_name": "LayoutModel",
      "state": {}
     },
     "17439115f74a4cf2a560970f22b1a86d": {
      "model_module": "@jupyter-widgets/base",
      "model_module_version": "2.0.0",
      "model_name": "LayoutModel",
      "state": {}
     },
     "18d23579900349feba4792e7af50f1ad": {
      "model_module": "@jupyter-widgets/controls",
      "model_module_version": "2.0.0",
      "model_name": "HBoxModel",
      "state": {
       "children": [
        "IPY_MODEL_b35375bec34e44d88600b86e8c867c80",
        "IPY_MODEL_83850053317844cea409e874dbe0537c",
        "IPY_MODEL_70efa7138edc44a885011aa5557d5478"
       ],
       "layout": "IPY_MODEL_66c3afc4fe024190bee0f14a91b23dd6"
      }
     },
     "20c51aa56aff47018f65dda17785c5f3": {
      "model_module": "@jupyter-widgets/controls",
      "model_module_version": "2.0.0",
      "model_name": "ProgressStyleModel",
      "state": {
       "description_width": ""
      }
     },
     "2a14aa945a3142448745f15a0da4cba3": {
      "model_module": "@jupyter-widgets/controls",
      "model_module_version": "2.0.0",
      "model_name": "HTMLStyleModel",
      "state": {
       "description_width": "",
       "font_size": null,
       "text_color": null
      }
     },
     "4496cf19a48648e686ef41daa0a4f3ae": {
      "model_module": "@jupyter-widgets/base",
      "model_module_version": "2.0.0",
      "model_name": "LayoutModel",
      "state": {}
     },
     "47f793598f1541f5acaf25e674a1f928": {
      "model_module": "@jupyter-widgets/controls",
      "model_module_version": "2.0.0",
      "model_name": "FloatProgressModel",
      "state": {
       "bar_style": "success",
       "layout": "IPY_MODEL_873eb94376c74ac29f04c2927cc5a8e4",
       "max": 5,
       "style": "IPY_MODEL_20c51aa56aff47018f65dda17785c5f3",
       "value": 5
      }
     },
     "55b6a724d3144a1cbc7fe872cfc13e6b": {
      "model_module": "@jupyter-widgets/controls",
      "model_module_version": "2.0.0",
      "model_name": "HTMLModel",
      "state": {
       "layout": "IPY_MODEL_4496cf19a48648e686ef41daa0a4f3ae",
       "style": "IPY_MODEL_5b8dd31d90f245039b22cc9bbda124c8",
       "value": " 18/18 [00:00&lt;00:00, 45.54it/s, Completed]"
      }
     },
     "5b8dd31d90f245039b22cc9bbda124c8": {
      "model_module": "@jupyter-widgets/controls",
      "model_module_version": "2.0.0",
      "model_name": "HTMLStyleModel",
      "state": {
       "description_width": "",
       "font_size": null,
       "text_color": null
      }
     },
     "66c3afc4fe024190bee0f14a91b23dd6": {
      "model_module": "@jupyter-widgets/base",
      "model_module_version": "2.0.0",
      "model_name": "LayoutModel",
      "state": {}
     },
     "69cf7b56ae2149e9ab54e68dc95f7cb9": {
      "model_module": "@jupyter-widgets/base",
      "model_module_version": "2.0.0",
      "model_name": "LayoutModel",
      "state": {}
     },
     "6aed4e24889540d7b18e00962c900c4f": {
      "model_module": "@jupyter-widgets/base",
      "model_module_version": "2.0.0",
      "model_name": "LayoutModel",
      "state": {}
     },
     "70efa7138edc44a885011aa5557d5478": {
      "model_module": "@jupyter-widgets/controls",
      "model_module_version": "2.0.0",
      "model_name": "HTMLModel",
      "state": {
       "layout": "IPY_MODEL_6aed4e24889540d7b18e00962c900c4f",
       "style": "IPY_MODEL_b0185a82cab246e9983779eaeacdcadb",
       "value": " 18/18 [00:00&lt;00:00, 34.95it/s, Completed]"
      }
     },
     "83850053317844cea409e874dbe0537c": {
      "model_module": "@jupyter-widgets/controls",
      "model_module_version": "2.0.0",
      "model_name": "FloatProgressModel",
      "state": {
       "bar_style": "success",
       "layout": "IPY_MODEL_0c81580a875d4d4488b0bf8683e388f7",
       "max": 5,
       "style": "IPY_MODEL_bf6c5be94b664d29821ba9672ded6ded",
       "value": 5
      }
     },
     "873eb94376c74ac29f04c2927cc5a8e4": {
      "model_module": "@jupyter-widgets/base",
      "model_module_version": "2.0.0",
      "model_name": "LayoutModel",
      "state": {}
     },
     "8a0f58b83b484167b324971fef4275d3": {
      "model_module": "@jupyter-widgets/controls",
      "model_module_version": "2.0.0",
      "model_name": "HTMLStyleModel",
      "state": {
       "description_width": "",
       "font_size": null,
       "text_color": null
      }
     },
     "8d88635830c74d4e9806027b351c264f": {
      "model_module": "@jupyter-widgets/controls",
      "model_module_version": "2.0.0",
      "model_name": "HBoxModel",
      "state": {
       "children": [
        "IPY_MODEL_f5d23db48ec84317a148423529fad85a",
        "IPY_MODEL_47f793598f1541f5acaf25e674a1f928",
        "IPY_MODEL_55b6a724d3144a1cbc7fe872cfc13e6b"
       ],
       "layout": "IPY_MODEL_9572db6e2dd84618a1ba98d8fe85df8f"
      }
     },
     "9572db6e2dd84618a1ba98d8fe85df8f": {
      "model_module": "@jupyter-widgets/base",
      "model_module_version": "2.0.0",
      "model_name": "LayoutModel",
      "state": {}
     },
     "b0185a82cab246e9983779eaeacdcadb": {
      "model_module": "@jupyter-widgets/controls",
      "model_module_version": "2.0.0",
      "model_name": "HTMLStyleModel",
      "state": {
       "description_width": "",
       "font_size": null,
       "text_color": null
      }
     },
     "b35375bec34e44d88600b86e8c867c80": {
      "model_module": "@jupyter-widgets/controls",
      "model_module_version": "2.0.0",
      "model_name": "HTMLModel",
      "state": {
       "layout": "IPY_MODEL_69cf7b56ae2149e9ab54e68dc95f7cb9",
       "style": "IPY_MODEL_2a14aa945a3142448745f15a0da4cba3",
       "value": "Summarize dataset: 100%"
      }
     },
     "bf6c5be94b664d29821ba9672ded6ded": {
      "model_module": "@jupyter-widgets/controls",
      "model_module_version": "2.0.0",
      "model_name": "ProgressStyleModel",
      "state": {
       "description_width": ""
      }
     },
     "f5d23db48ec84317a148423529fad85a": {
      "model_module": "@jupyter-widgets/controls",
      "model_module_version": "2.0.0",
      "model_name": "HTMLModel",
      "state": {
       "layout": "IPY_MODEL_17439115f74a4cf2a560970f22b1a86d",
       "style": "IPY_MODEL_8a0f58b83b484167b324971fef4275d3",
       "value": "Summarize dataset: 100%"
      }
     }
    },
    "version_major": 2,
    "version_minor": 0
   }
  }
 },
 "nbformat": 4,
 "nbformat_minor": 5
}
