{
 "cells": [
  {
   "cell_type": "code",
   "execution_count": 1,
   "id": "74c584ad-5860-4b3c-9f1d-ea18eb1c6e3b",
   "metadata": {},
   "outputs": [
    {
     "data": {
      "text/html": [
       "\n",
       "            <div>\n",
       "                <ins><a href=\"https://ydata.ai/register\">Upgrade to ydata-sdk</a></ins>\n",
       "                <p>\n",
       "                    Improve your data and profiling with ydata-sdk, featuring data quality scoring, redundancy detection, outlier identification, text validation, and synthetic data generation.\n",
       "                </p>\n",
       "            </div>\n",
       "            "
      ],
      "text/plain": [
       "<IPython.core.display.HTML object>"
      ]
     },
     "metadata": {},
     "output_type": "display_data"
    }
   ],
   "source": [
    "import pandas as pd\n",
    "from ydata_profiling.model.alerts import AlertType\n",
    "from ydata_profiling import  ProfileReport"
   ]
  },
  {
   "cell_type": "code",
   "execution_count": null,
   "id": "bde593d7-894a-43a8-918a-2eaf544cf522",
   "metadata": {},
   "outputs": [],
   "source": []
  },
  {
   "cell_type": "code",
   "execution_count": 2,
   "id": "0872bdda-a676-4417-a8a2-c323fd2a7974",
   "metadata": {},
   "outputs": [],
   "source": [
    "df = pd.read_csv('titanic.csv')"
   ]
  },
  {
   "cell_type": "code",
   "execution_count": 3,
   "id": "b1e36f6b-bad5-43fb-8998-8b929a7b31e9",
   "metadata": {},
   "outputs": [
    {
     "data": {
      "application/vnd.jupyter.widget-view+json": {
       "model_id": "50bcb89cda46401391ba5ed4c344e578",
       "version_major": 2,
       "version_minor": 0
      },
      "text/plain": [
       "Summarize dataset:   0%|          | 0/5 [00:00<?, ?it/s]"
      ]
     },
     "metadata": {},
     "output_type": "display_data"
    },
    {
     "name": "stderr",
     "output_type": "stream",
     "text": [
      "\n",
      "  0%|                                                                                                                                   | 0/12 [00:00<?, ?it/s]\u001b[A\n",
      "100%|█████████████████████████████████████████████████████████████████████████████████████████████████████████████████████████| 12/12 [00:00<00:00, 108.56it/s]\u001b[A\n"
     ]
    },
    {
     "data": {
      "application/vnd.jupyter.widget-view+json": {
       "model_id": "e4e7faf12c964243b0709c9aac25597e",
       "version_major": 2,
       "version_minor": 0
      },
      "text/plain": [
       "Generate report structure:   0%|          | 0/1 [00:00<?, ?it/s]"
      ]
     },
     "metadata": {},
     "output_type": "display_data"
    },
    {
     "data": {
      "application/vnd.jupyter.widget-view+json": {
       "model_id": "a9c353d6484e454eb220a825625d24d6",
       "version_major": 2,
       "version_minor": 0
      },
      "text/plain": [
       "Render HTML:   0%|          | 0/1 [00:00<?, ?it/s]"
      ]
     },
     "metadata": {},
     "output_type": "display_data"
    },
    {
     "data": {
      "application/vnd.jupyter.widget-view+json": {
       "model_id": "8b81be6f4074449483004d47d98777eb",
       "version_major": 2,
       "version_minor": 0
      },
      "text/plain": [
       "Export report to file:   0%|          | 0/1 [00:00<?, ?it/s]"
      ]
     },
     "metadata": {},
     "output_type": "display_data"
    },
    {
     "ename": "AttributeError",
     "evalue": "'ProfileReport' object has no attribute 'get_alerts'",
     "output_type": "error",
     "traceback": [
      "\u001b[1;31m---------------------------------------------------------------------------\u001b[0m",
      "\u001b[1;31mAttributeError\u001b[0m                            Traceback (most recent call last)",
      "Cell \u001b[1;32mIn[3], line 7\u001b[0m\n\u001b[0;32m      4\u001b[0m fd\u001b[38;5;241m.\u001b[39mto_file(output_file\u001b[38;5;241m=\u001b[39m\u001b[38;5;124m'\u001b[39m\u001b[38;5;124my.html\u001b[39m\u001b[38;5;124m'\u001b[39m)\n\u001b[0;32m      5\u001b[0m \u001b[38;5;28;01mfrom\u001b[39;00m\u001b[38;5;250m \u001b[39m\u001b[38;5;21;01mydata_profiling\u001b[39;00m\u001b[38;5;21;01m.\u001b[39;00m\u001b[38;5;21;01mmodel\u001b[39;00m\u001b[38;5;21;01m.\u001b[39;00m\u001b[38;5;21;01malerts\u001b[39;00m\u001b[38;5;250m \u001b[39m\u001b[38;5;28;01mimport\u001b[39;00m AlertType\n\u001b[1;32m----> 7\u001b[0m \u001b[38;5;28mprint\u001b[39m(\u001b[43mfd\u001b[49m\u001b[38;5;241;43m.\u001b[39;49m\u001b[43mget_alerts\u001b[49m())\n",
      "\u001b[1;31mAttributeError\u001b[0m: 'ProfileReport' object has no attribute 'get_alerts'"
     ]
    }
   ],
   "source": [
    "# object of class ProfileReport\n",
    "fd = ProfileReport(df)\n",
    "\n",
    "fd.to_file(output_file='y.html')\n",
    "from ydata_profiling.model.alerts import AlertType\n",
    "\n",
    "print(fd.get_alerts())"
   ]
  },
  {
   "cell_type": "code",
   "execution_count": null,
   "id": "82269435-337f-4c66-831d-f046e74d4bfb",
   "metadata": {},
   "outputs": [],
   "source": []
  },
  {
   "cell_type": "code",
   "execution_count": null,
   "id": "f25ba0a3-4762-4e98-9952-0a0b201ca0e0",
   "metadata": {},
   "outputs": [],
   "source": [
    "import json\n",
    "\n",
    "# conv to json string\n",
    "json_data = fd.to_json()\n",
    "\n",
    "\n",
    "result = json.loads(json_data) # into python dictionary\n",
    "\n",
    "\n",
    "result['alerts']         # list\n"
   ]
  },
  {
   "cell_type": "code",
   "execution_count": null,
   "id": "6c488970-7f2b-42f1-aa21-fbbe3f03d720",
   "metadata": {},
   "outputs": [],
   "source": [
    "for i in result['alerts'] :\n",
    "\n",
    "    print(i)\n"
   ]
  },
  {
   "cell_type": "code",
   "execution_count": null,
   "id": "4f39a64f-687a-4d57-83dd-4f92ec941cce",
   "metadata": {},
   "outputs": [],
   "source": [
    "from ydata_profiling.model.alerts import AlertType\n",
    "\n",
    "print(fd.get_alerts())\n"
   ]
  },
  {
   "cell_type": "code",
   "execution_count": null,
   "id": "30cb122a-169e-4182-8e51-a2138ac4d470",
   "metadata": {},
   "outputs": [],
   "source": [
    "description = fd.get_description()\n",
    "# 2. Access the 'alerts' key from the dictionary\n",
    "alerts_list = description['alerts']\n",
    "\n",
    "# Now you can loop through the list of Alert objects\n",
    "for alert in alerts_list:\n",
    "    print(f\"Column: '{alert.column_name}', Type: {alert.alert_type}\")\n"
   ]
  },
  {
   "cell_type": "code",
   "execution_count": null,
   "id": "832b1f14-b06f-450d-adf1-ca018899d724",
   "metadata": {},
   "outputs": [],
   "source": [
    "from ydata_profiling import ProfileReport\n",
    "\n",
    "# Assume df is your DataFrame\n",
    "# df = ...\n",
    "\n",
    "# Create the profile object\n",
    "profile = ProfileReport(df, minimal=True)\n",
    "\n",
    "# Use the correct modern method to get the list of alert objects\n",
    "alerts_list = profile.get_alerts()\n",
    "\n",
    "# Now you can loop through the list without any errors\n",
    "if alerts_list:\n",
    "    for alert in alerts_list:\n",
    "        print(f\"Column: '{alert.column_name}', Type: {alert.alert_type}\")\n",
    "else:\n",
    "    print(\"No alerts found.\")"
   ]
  },
  {
   "cell_type": "code",
   "execution_count": null,
   "id": "0a769024-4c79-49a7-9404-0064fdb1fa59",
   "metadata": {},
   "outputs": [],
   "source": []
  },
  {
   "cell_type": "code",
   "execution_count": null,
   "id": "bb87defd-08ab-45c3-b24d-0e7704e527b8",
   "metadata": {},
   "outputs": [],
   "source": [
    "import ydata_profiling\n",
    "print(ydata_profiling.__version__)\n",
    "print(ydata_profiling.__file__)"
   ]
  },
  {
   "cell_type": "code",
   "execution_count": null,
   "id": "4c1ad9de-6142-45f3-9b52-602fd191d993",
   "metadata": {},
   "outputs": [],
   "source": []
  },
  {
   "cell_type": "code",
   "execution_count": null,
   "id": "6a942c68-7ed3-4862-a1da-1cbed41cc205",
   "metadata": {},
   "outputs": [],
   "source": []
  },
  {
   "cell_type": "code",
   "execution_count": null,
   "id": "a0104e2b-ae8d-45b1-b4f7-877414aa5e89",
   "metadata": {},
   "outputs": [],
   "source": []
  }
 ],
 "metadata": {
  "kernelspec": {
   "display_name": "Python (intelliclean_env)",
   "language": "python",
   "name": "intelliclean_env"
  },
  "language_info": {
   "codemirror_mode": {
    "name": "ipython",
    "version": 3
   },
   "file_extension": ".py",
   "mimetype": "text/x-python",
   "name": "python",
   "nbconvert_exporter": "python",
   "pygments_lexer": "ipython3",
   "version": "3.10.18"
  },
  "widgets": {
   "application/vnd.jupyter.widget-state+json": {
    "state": {},
    "version_major": 2,
    "version_minor": 0
   }
  }
 },
 "nbformat": 4,
 "nbformat_minor": 5
}
